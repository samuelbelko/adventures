{
 "cells": [
  {
   "cell_type": "markdown",
   "metadata": {},
   "source": [
    "# Trapezoidal rule\n",
    "Sources: Wikipedia: [Trapezoidal rule](https://en.wikipedia.org/wiki/Trapezoidal_rule)\n",
    "\n",
    "We divide $ [a,b]$ into $N$ subintervals with the same length i.e. let $h = \\frac{b-a}{N} $ and $x_j = a + b h $ for $ j \\in \\{0,1,\\dots,N\\}$, we then approximate the value of the definite integral using\n",
    "\n",
    "$$ \\int_a^b f(x)dx \\approx \\sum_{j=1}^N \\frac{f(x_{j-1})+ f(x_j)}{2} h$$"
   ]
  },
  {
   "cell_type": "code",
   "execution_count": 1,
   "metadata": {},
   "outputs": [],
   "source": [
    "function trap(func, a, b, N) \n",
    "    h = (b - a)/N\n",
    "    last = a\n",
    "    sum = 0\n",
    "    for x in LinRange(a, b, N)\n",
    "        if x == a\n",
    "            continue\n",
    "        end\n",
    "        sum += (func(last) + func(x)) * h    \n",
    "    end\n",
    "    return sum\n",
    "end\n",
    ";"
   ]
  },
  {
   "cell_type": "code",
   "execution_count": 2,
   "metadata": {},
   "outputs": [
    {
     "data": {
      "text/plain": [
       "22.51851851851852"
      ]
     },
     "execution_count": 2,
     "metadata": {},
     "output_type": "execute_result"
    }
   ],
   "source": [
    "trap(x -> x^2, 0, 4,10)"
   ]
  },
  {
   "cell_type": "code",
   "execution_count": 3,
   "metadata": {},
   "outputs": [
    {
     "data": {
      "text/plain": [
       "21.333333333333332"
      ]
     },
     "execution_count": 3,
     "metadata": {},
     "output_type": "execute_result"
    }
   ],
   "source": [
    "4^3/3"
   ]
  },
  {
   "cell_type": "markdown",
   "metadata": {},
   "source": [
    "We can also make use of one of the julia's nice features, allowing us to use unicode symbols for variable & method names. So, for example we may write the following:"
   ]
  },
  {
   "cell_type": "code",
   "execution_count": 4,
   "metadata": {},
   "outputs": [
    {
     "data": {
      "text/plain": [
       "22.51851851851852"
      ]
     },
     "execution_count": 4,
     "metadata": {},
     "output_type": "execute_result"
    }
   ],
   "source": [
    "∫(f) = trap(f, 0, 4, 10)\n",
    "g(x) = x^2\n",
    "∫(g)"
   ]
  },
  {
   "cell_type": "markdown",
   "metadata": {},
   "source": [
    "## Eliptic integral \n",
    "Now, we try to use our trap function to get an approximate value of this eliptic integral\n",
    "$$ L = 4 a \\int_0^{\\pi / 2} \\sqrt{1- \\epsilon^2 sin^2(t)}dt$$ \n",
    "with\n",
    "$$ \\epsilon = \\frac{\\sqrt{a^2 - b^2}}{a}$$\n",
    "and $a= \\frac{1}{\\pi}$, $b=\\frac{0.8}{\\pi}$"
   ]
  },
  {
   "cell_type": "code",
   "execution_count": 5,
   "metadata": {},
   "outputs": [],
   "source": [
    "f(a,ϵ,t) = 4a * (1- ϵ^2 * (sin(t))^2);"
   ]
  },
  {
   "cell_type": "code",
   "execution_count": 6,
   "metadata": {},
   "outputs": [],
   "source": [
    "g(a,b,t) = f(a, sqrt(a^2 - b^2) / a, t);"
   ]
  },
  {
   "cell_type": "code",
   "execution_count": 7,
   "metadata": {},
   "outputs": [
    {
     "data": {
      "text/plain": [
       "3.6"
      ]
     },
     "execution_count": 7,
     "metadata": {},
     "output_type": "execute_result"
    }
   ],
   "source": [
    "trap(x -> g(1/π, 0.8 / π, x), 0, π /2, 100)"
   ]
  },
  {
   "cell_type": "markdown",
   "metadata": {},
   "source": [
    "Thanks for reading."
   ]
  }
 ],
 "metadata": {
  "kernelspec": {
   "display_name": "Julia 1.0.1",
   "language": "julia",
   "name": "julia-1.0"
  },
  "language_info": {
   "file_extension": ".jl",
   "mimetype": "application/julia",
   "name": "julia",
   "version": "1.0.1"
  }
 },
 "nbformat": 4,
 "nbformat_minor": 2
}
