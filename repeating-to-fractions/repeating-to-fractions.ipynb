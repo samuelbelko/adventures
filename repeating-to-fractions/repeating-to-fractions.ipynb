{
 "cells": [
  {
   "cell_type": "markdown",
   "metadata": {},
   "source": [
    "# Convert repeating decimals to fractions"
   ]
  },
  {
   "cell_type": "markdown",
   "metadata": {},
   "source": [
    "Sources: wikipedia: [Repeating decimal](https://en.wikipedia.org/wiki/Repeating_decimal), [Decimal](https://en.wikipedia.org/wiki/Decimal)"
   ]
  },
  {
   "cell_type": "markdown",
   "metadata": {},
   "source": [
    "It can be shown that any real number has a periodic decimal representation if and only if it is rational number. This can be more formally stated as \n",
    "$$[ x \\in \\mathbb{Q} ] \\iff [\\exists p \\in \\mathbb{N}, N_0 \\in \\mathbb{N} : \\forall n \\geq N_0: q_{n+p} = q_n] $$\n",
    "where $q_i$ represents the $i$-th decimal digit.\n",
    "\n",
    "But how does one convert a repeating decimal number to a fraction? Consider the following example:\n",
    "\n",
    "$$ 0.0123123123 \\dots = \\frac{123}{10000} \\sum_{k=0}^{\\infty}0.001^k = \\frac{123}{10000} \\frac{1}{1-0.001} = \\frac{123}{9990} $$\n",
    "\n",
    "Once we know which part repeats itself, we can determine the fraction of the number."
   ]
  },
  {
   "cell_type": "code",
   "execution_count": 11,
   "metadata": {},
   "outputs": [
    {
     "data": {
      "text/plain": [
       "tofrac (generic function with 1 method)"
      ]
     },
     "execution_count": 11,
     "metadata": {},
     "output_type": "execute_result"
    }
   ],
   "source": [
    "function tofrac(x, n, y)\n",
    "    # x // 10^n is a terminating decimal, x is an non negative integer\n",
    "    # for example 0.0123 is represented as x=123, n=4\n",
    "    # y is the repeating part at the end\n",
    "    # we neet to shift the repeating rest by \n",
    "    # n + ndigits(y) because the series starts at k=0\n",
    "    (x // 10^n) + (1 // 10^(n + ndigits(y)))*(y // (1- 1//(10^ndigits(y))))\n",
    "end"
   ]
  },
  {
   "cell_type": "code",
   "execution_count": 12,
   "metadata": {},
   "outputs": [
    {
     "data": {
      "text/plain": [
       "31//99"
      ]
     },
     "execution_count": 12,
     "metadata": {},
     "output_type": "execute_result"
    }
   ],
   "source": [
    "tofrac(0,0,31)"
   ]
  },
  {
   "cell_type": "code",
   "execution_count": 13,
   "metadata": {},
   "outputs": [
    {
     "data": {
      "text/plain": [
       "true"
      ]
     },
     "execution_count": 13,
     "metadata": {},
     "output_type": "execute_result"
    }
   ],
   "source": [
    "Float64(tofrac(0,0,31)) ≈ 0.313131313"
   ]
  },
  {
   "cell_type": "code",
   "execution_count": 14,
   "metadata": {},
   "outputs": [
    {
     "data": {
      "text/plain": [
       "true"
      ]
     },
     "execution_count": 14,
     "metadata": {},
     "output_type": "execute_result"
    }
   ],
   "source": [
    "tofrac(123,4,123) == 123//9990"
   ]
  },
  {
   "cell_type": "code",
   "execution_count": 15,
   "metadata": {},
   "outputs": [
    {
     "data": {
      "text/plain": [
       "1.2432143214321432"
      ]
     },
     "execution_count": 15,
     "metadata": {},
     "output_type": "execute_result"
    }
   ],
   "source": [
    "Float64(tofrac(12,1,4321))"
   ]
  },
  {
   "cell_type": "markdown",
   "metadata": {},
   "source": [
    "Thanks for reading."
   ]
  }
 ],
 "metadata": {
  "kernelspec": {
   "display_name": "Julia 1.0.1",
   "language": "julia",
   "name": "julia-1.0"
  },
  "language_info": {
   "file_extension": ".jl",
   "mimetype": "application/julia",
   "name": "julia",
   "version": "1.0.1"
  }
 },
 "nbformat": 4,
 "nbformat_minor": 2
}
