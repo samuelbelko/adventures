{
 "cells": [
  {
   "cell_type": "markdown",
   "metadata": {},
   "source": [
    "# Pythagorian grid"
   ]
  },
  {
   "cell_type": "code",
   "execution_count": null,
   "metadata": {},
   "outputs": [],
   "source": [
    "using Plots\n",
    "\n",
    "function gen_grid(size)\n",
    "    X = Int64[]\n",
    "    Y = Int64[]\n",
    "\n",
    "    for x in -size/2:size/2, y in -size/2:size/2\n",
    "           push!(X,x); push!(Y,y)\n",
    "    end\n",
    "\n",
    "    vcat(Vector(X)', Vector(Y)')\n",
    "end\n",
    "\n",
    "# rotational matrix\n",
    "R(α) = [ cos(α) -sin(α); sin(α) cos(α) ]\n",
    "\n",
    "grid_size = 20\n",
    "\n",
    "# animate macro is very useful\n",
    "anim = @animate for α in range(0,stop= π/2, length=80)\n",
    "    M = hcat(R(α) * gen_grid(grid_size), gen_grid(grid_size))\n",
    "    L = reshape([], 2, 0)\n",
    "    \n",
    "    for x in 1:length(M[1,:])\n",
    "        if -grid_size/2 <= M[1,x] <= grid_size/2 && -grid_size/2 <= M[2,x] <= grid_size/2\n",
    "            L = hcat(L, [M[1,x] M[2,x]]' )\n",
    "        end\n",
    "    end\n",
    "\n",
    "    scatter(L[1,:], L[2,:], aspect_ratio=1, label=\"\" );\n",
    "end\n",
    "gif(anim, \"anim_fps15.gif\", fps = 15)"
   ]
  },
  {
   "cell_type": "markdown",
   "metadata": {},
   "source": [
    "You can view the output here: [animations](https://belko.xyz/animations.html)"
   ]
  }
 ],
 "metadata": {
  "kernelspec": {
   "display_name": "Julia 1.0.1",
   "language": "julia",
   "name": "julia-1.0"
  },
  "language_info": {
   "file_extension": ".jl",
   "mimetype": "application/julia",
   "name": "julia",
   "version": "1.0.1"
  }
 },
 "nbformat": 4,
 "nbformat_minor": 2
}
