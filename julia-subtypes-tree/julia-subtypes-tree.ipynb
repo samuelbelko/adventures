{
 "cells": [
  {
   "cell_type": "markdown",
   "metadata": {},
   "source": [
    "# Julia subtypes tree\n",
    "With this short recursive function, one may print subtypes of a given type in a clean way."
   ]
  },
  {
   "cell_type": "code",
   "execution_count": 1,
   "metadata": {},
   "outputs": [
    {
     "data": {
      "text/plain": [
       "printsub (generic function with 1 method)"
      ]
     },
     "execution_count": 1,
     "metadata": {},
     "output_type": "execute_result"
    }
   ],
   "source": [
    "function printsub(t::Type; first_iter = true, last=false, padding=\"\")    \n",
    "    if first_iter\n",
    "        println(t)\n",
    "        # don't print \"| \"\n",
    "        last=true\n",
    "        new_padding = \"\"\n",
    "    else\n",
    "        if last \n",
    "            println(padding * \"┗ \",t)\n",
    "            new_padding = padding * \"  \"\n",
    "        else\n",
    "            println(padding * \"┣ \",t)\n",
    "            new_padding = padding *  \"┃ \"\n",
    "        end\n",
    "    end\n",
    "    \n",
    "    st = subtypes(t)\n",
    "        \n",
    "    if ! isempty(st)\n",
    "        for sub in st[1:lastindex(st)-1] \n",
    "            printsub(sub, first_iter=false, padding=new_padding)\n",
    "        end\n",
    "        printsub(st[end], first_iter=false, last=true, padding=new_padding)\n",
    "    end\n",
    "end"
   ]
  },
  {
   "cell_type": "markdown",
   "metadata": {},
   "source": [
    "Examples:"
   ]
  },
  {
   "cell_type": "code",
   "execution_count": 2,
   "metadata": {},
   "outputs": [
    {
     "name": "stdout",
     "output_type": "stream",
     "text": [
      "Number\n",
      "┣ Complex\n",
      "┗ Real\n",
      "  ┣ AbstractFloat\n",
      "  ┃ ┣ BigFloat\n",
      "  ┃ ┣ Float16\n",
      "  ┃ ┣ Float32\n",
      "  ┃ ┗ Float64\n",
      "  ┣ AbstractIrrational\n",
      "  ┃ ┗ Irrational\n",
      "  ┣ Integer\n",
      "  ┃ ┣ Bool\n",
      "  ┃ ┣ Signed\n",
      "  ┃ ┃ ┣ BigInt\n",
      "  ┃ ┃ ┣ Int128\n",
      "  ┃ ┃ ┣ Int16\n",
      "  ┃ ┃ ┣ Int32\n",
      "  ┃ ┃ ┣ Int64\n",
      "  ┃ ┃ ┗ Int8\n",
      "  ┃ ┗ Unsigned\n",
      "  ┃   ┣ UInt128\n",
      "  ┃   ┣ UInt16\n",
      "  ┃   ┣ UInt32\n",
      "  ┃   ┣ UInt64\n",
      "  ┃   ┗ UInt8\n",
      "  ┗ Rational\n"
     ]
    }
   ],
   "source": [
    "printsub(Number)"
   ]
  },
  {
   "cell_type": "code",
   "execution_count": 3,
   "metadata": {},
   "outputs": [
    {
     "name": "stdout",
     "output_type": "stream",
     "text": [
      "AbstractString\n",
      "┣ String\n",
      "┣ SubString\n",
      "┣ SubstitutionString\n",
      "┗ Test.GenericString\n"
     ]
    }
   ],
   "source": [
    "printsub(AbstractString)"
   ]
  },
  {
   "cell_type": "code",
   "execution_count": 4,
   "metadata": {},
   "outputs": [
    {
     "name": "stdout",
     "output_type": "stream",
     "text": [
      "Missing\n"
     ]
    }
   ],
   "source": [
    "printsub(Missing)"
   ]
  },
  {
   "cell_type": "code",
   "execution_count": 5,
   "metadata": {},
   "outputs": [
    {
     "name": "stdout",
     "output_type": "stream",
     "text": [
      "AbstractArray\n",
      "┣ AbstractRange\n",
      "┃ ┣ LinRange\n",
      "┃ ┣ OrdinalRange\n",
      "┃ ┃ ┣ AbstractUnitRange\n",
      "┃ ┃ ┃ ┣ Base.OneTo\n",
      "┃ ┃ ┃ ┣ Base.Slice\n",
      "┃ ┃ ┃ ┗ UnitRange\n",
      "┃ ┃ ┗ StepRange\n",
      "┃ ┗ StepRangeLen\n",
      "┣ Base.LogicalIndex\n",
      "┣ Base.ReinterpretArray\n",
      "┣ Base.ReshapedArray\n",
      "┣ BitArray\n",
      "┣ CartesianIndices\n",
      "┣ Core.Compiler.AbstractRange\n",
      "┃ ┣ Core.Compiler.LinRange\n",
      "┃ ┣ Core.Compiler.OrdinalRange\n",
      "┃ ┃ ┣ Core.Compiler.AbstractUnitRange\n",
      "┃ ┃ ┃ ┣ Core.Compiler.OneTo\n",
      "┃ ┃ ┃ ┣ Core.Compiler.Slice\n",
      "┃ ┃ ┃ ┣ Core.Compiler.StmtRange\n",
      "┃ ┃ ┃ ┗ Core.Compiler.UnitRange\n",
      "┃ ┃ ┗ Core.Compiler.StepRange\n",
      "┃ ┗ Core.Compiler.StepRangeLen\n",
      "┣ Core.Compiler.BitArray\n",
      "┣ Core.Compiler.LinearIndices\n",
      "┣ DenseArray\n",
      "┃ ┣ Array\n",
      "┃ ┣ Base.CodeUnits\n",
      "┃ ┣ Random.UnsafeView\n",
      "┃ ┣ SharedArrays.SharedArray\n",
      "┃ ┗ SuiteSparse.CHOLMOD.Dense\n",
      "┣ JSON.Parser.PushVector\n",
      "┣ LinearAlgebra.AbstractQ\n",
      "┃ ┣ LinearAlgebra.QRCompactWYQ\n",
      "┃ ┣ LinearAlgebra.QRPackedQ\n",
      "┃ ┗ SuiteSparse.SPQR.QRSparseQ\n",
      "┣ LinearAlgebra.AbstractTriangular\n",
      "┃ ┣ LinearAlgebra.LowerTriangular\n",
      "┃ ┣ LinearAlgebra.UnitLowerTriangular\n",
      "┃ ┣ LinearAlgebra.UnitUpperTriangular\n",
      "┃ ┗ LinearAlgebra.UpperTriangular\n",
      "┣ LinearAlgebra.Adjoint\n",
      "┣ LinearAlgebra.Bidiagonal\n",
      "┣ LinearAlgebra.Diagonal\n",
      "┣ LinearAlgebra.Hermitian\n",
      "┣ LinearAlgebra.HessenbergQ\n",
      "┣ LinearAlgebra.LQPackedQ\n",
      "┣ LinearAlgebra.SymTridiagonal\n",
      "┣ LinearAlgebra.Symmetric\n",
      "┣ LinearAlgebra.Transpose\n",
      "┣ LinearAlgebra.Tridiagonal\n",
      "┣ LinearIndices\n",
      "┣ PermutedDimsArray\n",
      "┣ SparseArrays.AbstractSparseArray\n",
      "┃ ┣ SparseArrays.SparseMatrixCSC\n",
      "┃ ┣ SparseArrays.SparseVector\n",
      "┃ ┗ SuiteSparse.CHOLMOD.Sparse\n",
      "┣ SubArray\n",
      "┣ SuiteSparse.CHOLMOD.FactorComponent\n",
      "┣ Test.GenericArray\n",
      "┗ ZMQ.Message\n"
     ]
    }
   ],
   "source": [
    "printsub(AbstractArray)"
   ]
  },
  {
   "cell_type": "markdown",
   "metadata": {},
   "source": [
    "Thanks for reading."
   ]
  }
 ],
 "metadata": {
  "kernelspec": {
   "display_name": "Julia 1.0.1",
   "language": "julia",
   "name": "julia-1.0"
  },
  "language_info": {
   "file_extension": ".jl",
   "mimetype": "application/julia",
   "name": "julia",
   "version": "1.0.1"
  }
 },
 "nbformat": 4,
 "nbformat_minor": 2
}
