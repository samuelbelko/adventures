{
 "cells": [
  {
   "cell_type": "markdown",
   "metadata": {},
   "source": [
    "# Julia: explore type hierarchy\n",
    "With these two short recursive functions, one may look into Julia's type hierarchy."
   ]
  },
  {
   "cell_type": "code",
   "execution_count": 1,
   "metadata": {},
   "outputs": [],
   "source": [
    "function printsub(t::Type; first_iter = true, last=false, padding=\"\")    \n",
    "    if first_iter\n",
    "        println(t)\n",
    "        # don't print \"| \"\n",
    "        last=true\n",
    "        new_padding = \"\"\n",
    "    else\n",
    "        if last \n",
    "            println(padding * \"┗ \",t)\n",
    "            new_padding = padding * \"  \"\n",
    "        else\n",
    "            println(padding * \"┣ \",t)\n",
    "            new_padding = padding *  \"┃ \"\n",
    "        end\n",
    "    end\n",
    "    \n",
    "    st = subtypes(t)\n",
    "        \n",
    "    if ! isempty(st)\n",
    "        for sub in st[1:lastindex(st)-1] \n",
    "            printsub(sub, first_iter=false, padding=new_padding)\n",
    "        end\n",
    "        printsub(st[end], first_iter=false, last=true, padding=new_padding)\n",
    "    end\n",
    "end\n",
    "\n",
    "# accept abstract and concrete types that are subtypes of UnionAll or DataType,\n",
    "# supertype(t) is defined for a argument of this type\n",
    "function printsuper(t::Union{UnionAll,DataType}, res=\"$t\")\n",
    "    if supertype(t) != Any\n",
    "        printsuper(supertype(t), \"$(supertype(t)) -> $res\")\n",
    "    else\n",
    "        println(\"Any -> $res\")\n",
    "    end\n",
    "end;"
   ]
  },
  {
   "cell_type": "markdown",
   "metadata": {},
   "source": [
    "To summarize some of the most important things about Julia's type system (for more refer to [Julia docs](https://docs.julialang.org/en/v1/manual/types/index.html)):\n",
    "- it is dynamic, but you can indicate that certain values are of specific types\n",
    "- hierarchical relationships are explicitly declared\n",
    "    - all concrete types may only have abstract types as their supertypes\n",
    "    - abstract and concrete types can be parameterized by other types\n",
    "    - abstract types cannot be instantiated\n",
    "- all values in Julia are true objects having a type\n",
    "- the only type a value has is its actual type when the program is running\n",
    "- only values, not variables, have types\n",
    "- a primitive type is a concrete type whose data consists of plain old bits\n",
    "- a composite type is a collection of named fields\n",
    "- functions are not bundled with the objects they operate on\n",
    "    - the types of all of a function's arguments are considered when selecting a method, rather than just the first one"
   ]
  },
  {
   "cell_type": "code",
   "execution_count": 2,
   "metadata": {},
   "outputs": [
    {
     "name": "stdout",
     "output_type": "stream",
     "text": [
      "Type\n",
      "┣ Core.TypeofBottom\n",
      "┣ DataType\n",
      "┣ Union\n",
      "┗ UnionAll\n"
     ]
    }
   ],
   "source": [
    "printsub(Type)"
   ]
  },
  {
   "cell_type": "markdown",
   "metadata": {},
   "source": [
    "Parametric types like Array are a different kind of type called a UnionAll type. See the difference here:"
   ]
  },
  {
   "cell_type": "code",
   "execution_count": 3,
   "metadata": {},
   "outputs": [
    {
     "data": {
      "text/plain": [
       "UnionAll"
      ]
     },
     "execution_count": 3,
     "metadata": {},
     "output_type": "execute_result"
    }
   ],
   "source": [
    "typeof(Array)"
   ]
  },
  {
   "cell_type": "code",
   "execution_count": 4,
   "metadata": {},
   "outputs": [
    {
     "data": {
      "text/plain": [
       "UnionAll"
      ]
     },
     "execution_count": 4,
     "metadata": {},
     "output_type": "execute_result"
    }
   ],
   "source": [
    "typeof(Array)"
   ]
  },
  {
   "cell_type": "code",
   "execution_count": 5,
   "metadata": {},
   "outputs": [
    {
     "data": {
      "text/plain": [
       "UnionAll"
      ]
     },
     "execution_count": 5,
     "metadata": {},
     "output_type": "execute_result"
    }
   ],
   "source": [
    "typeof(Array{Int64})"
   ]
  },
  {
   "cell_type": "code",
   "execution_count": 6,
   "metadata": {},
   "outputs": [
    {
     "data": {
      "text/plain": [
       "DataType"
      ]
     },
     "execution_count": 6,
     "metadata": {},
     "output_type": "execute_result"
    }
   ],
   "source": [
    "typeof(Array{Int64,2})"
   ]
  },
  {
   "cell_type": "code",
   "execution_count": 7,
   "metadata": {},
   "outputs": [
    {
     "name": "stdout",
     "output_type": "stream",
     "text": [
      "Any -> AbstractArray -> DenseArray -> Array\n"
     ]
    }
   ],
   "source": [
    "printsuper(Array)"
   ]
  },
  {
   "cell_type": "code",
   "execution_count": 8,
   "metadata": {},
   "outputs": [
    {
     "name": "stdout",
     "output_type": "stream",
     "text": [
      "Any -> AbstractArray{Int64,N} where N -> DenseArray{Int64,N} where N -> Array{Int64,N} where N\n"
     ]
    }
   ],
   "source": [
    "# Int is an alias for Int64\n",
    "printsuper(Array{Int})"
   ]
  },
  {
   "cell_type": "code",
   "execution_count": 9,
   "metadata": {},
   "outputs": [
    {
     "name": "stdout",
     "output_type": "stream",
     "text": [
      "Any -> AbstractArray{Int64,4} -> DenseArray{Int64,4} -> Array{Int64,4}\n"
     ]
    }
   ],
   "source": [
    "# Only declared types (DataType) have unambiguous supertypes.\n",
    "printsuper(Array{Int64,4})"
   ]
  },
  {
   "cell_type": "code",
   "execution_count": 10,
   "metadata": {},
   "outputs": [
    {
     "data": {
      "text/plain": [
       "DataType"
      ]
     },
     "execution_count": 10,
     "metadata": {},
     "output_type": "execute_result"
    }
   ],
   "source": [
    "# DataType is its own type.\n",
    "typeof(DataType)"
   ]
  },
  {
   "cell_type": "code",
   "execution_count": 11,
   "metadata": {},
   "outputs": [
    {
     "name": "stdout",
     "output_type": "stream",
     "text": [
      "AbstractString\n",
      "┣ String\n",
      "┣ SubString\n",
      "┣ SubstitutionString\n",
      "┗ Test.GenericString\n"
     ]
    }
   ],
   "source": [
    "printsub(AbstractString)"
   ]
  },
  {
   "cell_type": "code",
   "execution_count": 12,
   "metadata": {},
   "outputs": [
    {
     "data": {
      "text/plain": [
       "DataType"
      ]
     },
     "execution_count": 12,
     "metadata": {},
     "output_type": "execute_result"
    }
   ],
   "source": [
    "typeof(AbstractArray{String,1})"
   ]
  },
  {
   "cell_type": "code",
   "execution_count": 13,
   "metadata": {},
   "outputs": [
    {
     "name": "stdout",
     "output_type": "stream",
     "text": [
      "AbstractArray{String,1}\n",
      "┣ AbstractRange{String}\n",
      "┃ ┣ LinRange{String}\n",
      "┃ ┣ OrdinalRange{String,S} where S\n",
      "┃ ┃ ┣ AbstractUnitRange{String}\n",
      "┃ ┃ ┗ StepRange{String,S} where S\n",
      "┃ ┗ StepRangeLen{String,R,S} where S where R\n",
      "┣ Base.LogicalIndex{String,A} where A<:(AbstractArray{Bool,N} where N)\n",
      "┣ Base.ReinterpretArray{String,1,S,A} where A<:AbstractArray{S,1} where S\n",
      "┣ Base.ReshapedArray{String,1,P,MI} where MI<:Tuple{Vararg{Base.MultiplicativeInverses.SignedMultiplicativeInverse{Int64},N} where N} where P<:AbstractArray\n",
      "┣ Core.Compiler.AbstractRange{String}\n",
      "┃ ┣ Core.Compiler.LinRange{String}\n",
      "┃ ┣ Core.Compiler.OrdinalRange{String,S} where S\n",
      "┃ ┃ ┣ Core.Compiler.AbstractUnitRange{String}\n",
      "┃ ┃ ┗ Core.Compiler.StepRange{String,S} where S\n",
      "┃ ┗ Core.Compiler.StepRangeLen{String,R,S} where S where R\n",
      "┣ DenseArray{String,1}\n",
      "┃ ┣ Array{String,1}\n",
      "┃ ┣ Base.CodeUnits{String,S} where S<:AbstractString\n",
      "┃ ┣ Random.UnsafeView{String}\n",
      "┃ ┗ SharedArrays.SharedArray{String,1}\n",
      "┣ JSON.Parser.PushVector{String,A} where A<:AbstractArray{String,1}\n",
      "┣ PermutedDimsArray{String,1,perm,iperm,AA} where AA<:AbstractArray where iperm where perm\n",
      "┣ SparseArrays.AbstractSparseArray{String,Ti,1} where Ti\n",
      "┃ ┗ SparseArrays.SparseVector{String,Ti} where Ti<:Integer\n",
      "┣ SubArray{String,1,P,I,L} where L where I where P\n",
      "┗ Test.GenericArray{String,1}\n"
     ]
    }
   ],
   "source": [
    "printsub(AbstractArray{String,1})"
   ]
  },
  {
   "cell_type": "code",
   "execution_count": 14,
   "metadata": {},
   "outputs": [
    {
     "name": "stdout",
     "output_type": "stream",
     "text": [
      "AbstractArray\n",
      "┣ AbstractRange\n",
      "┃ ┣ LinRange\n",
      "┃ ┣ OrdinalRange\n",
      "┃ ┃ ┣ AbstractUnitRange\n",
      "┃ ┃ ┃ ┣ Base.OneTo\n",
      "┃ ┃ ┃ ┣ Base.Slice\n",
      "┃ ┃ ┃ ┗ UnitRange\n",
      "┃ ┃ ┗ StepRange\n",
      "┃ ┗ StepRangeLen\n",
      "┣ Base.LogicalIndex\n",
      "┣ Base.ReinterpretArray\n",
      "┣ Base.ReshapedArray\n",
      "┣ BitArray\n",
      "┣ CartesianIndices\n",
      "┣ Core.Compiler.AbstractRange\n",
      "┃ ┣ Core.Compiler.LinRange\n",
      "┃ ┣ Core.Compiler.OrdinalRange\n",
      "┃ ┃ ┣ Core.Compiler.AbstractUnitRange\n",
      "┃ ┃ ┃ ┣ Core.Compiler.OneTo\n",
      "┃ ┃ ┃ ┣ Core.Compiler.Slice\n",
      "┃ ┃ ┃ ┣ Core.Compiler.StmtRange\n",
      "┃ ┃ ┃ ┗ Core.Compiler.UnitRange\n",
      "┃ ┃ ┗ Core.Compiler.StepRange\n",
      "┃ ┗ Core.Compiler.StepRangeLen\n",
      "┣ Core.Compiler.BitArray\n",
      "┣ Core.Compiler.LinearIndices\n",
      "┣ DenseArray\n",
      "┃ ┣ Array\n",
      "┃ ┣ Base.CodeUnits\n",
      "┃ ┣ Random.UnsafeView\n",
      "┃ ┣ SharedArrays.SharedArray\n",
      "┃ ┗ SuiteSparse.CHOLMOD.Dense\n",
      "┣ JSON.Parser.PushVector\n",
      "┣ LinearAlgebra.AbstractQ\n",
      "┃ ┣ LinearAlgebra.QRCompactWYQ\n",
      "┃ ┣ LinearAlgebra.QRPackedQ\n",
      "┃ ┗ SuiteSparse.SPQR.QRSparseQ\n",
      "┣ LinearAlgebra.AbstractTriangular\n",
      "┃ ┣ LinearAlgebra.LowerTriangular\n",
      "┃ ┣ LinearAlgebra.UnitLowerTriangular\n",
      "┃ ┣ LinearAlgebra.UnitUpperTriangular\n",
      "┃ ┗ LinearAlgebra.UpperTriangular\n",
      "┣ LinearAlgebra.Adjoint\n",
      "┣ LinearAlgebra.Bidiagonal\n",
      "┣ LinearAlgebra.Diagonal\n",
      "┣ LinearAlgebra.Hermitian\n",
      "┣ LinearAlgebra.HessenbergQ\n",
      "┣ LinearAlgebra.LQPackedQ\n",
      "┣ LinearAlgebra.SymTridiagonal\n",
      "┣ LinearAlgebra.Symmetric\n",
      "┣ LinearAlgebra.Transpose\n",
      "┣ LinearAlgebra.Tridiagonal\n",
      "┣ LinearIndices\n",
      "┣ PermutedDimsArray\n",
      "┣ SparseArrays.AbstractSparseArray\n",
      "┃ ┣ SparseArrays.SparseMatrixCSC\n",
      "┃ ┣ SparseArrays.SparseVector\n",
      "┃ ┗ SuiteSparse.CHOLMOD.Sparse\n",
      "┣ SubArray\n",
      "┣ SuiteSparse.CHOLMOD.FactorComponent\n",
      "┣ Test.GenericArray\n",
      "┗ ZMQ.Message\n"
     ]
    }
   ],
   "source": [
    "printsub(AbstractArray)"
   ]
  },
  {
   "cell_type": "code",
   "execution_count": 15,
   "metadata": {},
   "outputs": [
    {
     "name": "stdout",
     "output_type": "stream",
     "text": [
      "Missing\n"
     ]
    }
   ],
   "source": [
    "printsub(Missing)"
   ]
  },
  {
   "cell_type": "code",
   "execution_count": 16,
   "metadata": {},
   "outputs": [
    {
     "name": "stdout",
     "output_type": "stream",
     "text": [
      "Any -> Function\n"
     ]
    }
   ],
   "source": [
    "# Functions in Julia are first-class objects. \n",
    "# Abstract type of all functions.\n",
    "printsuper(Function)"
   ]
  },
  {
   "cell_type": "code",
   "execution_count": 17,
   "metadata": {},
   "outputs": [
    {
     "data": {
      "text/plain": [
       "true"
      ]
     },
     "execution_count": 17,
     "metadata": {},
     "output_type": "execute_result"
    }
   ],
   "source": [
    "isa(+, Function)"
   ]
  },
  {
   "cell_type": "markdown",
   "metadata": {},
   "source": [
    "Thanks for reading."
   ]
  }
 ],
 "metadata": {
  "kernelspec": {
   "display_name": "Julia 1.0.1",
   "language": "julia",
   "name": "julia-1.0"
  },
  "language_info": {
   "file_extension": ".jl",
   "mimetype": "application/julia",
   "name": "julia",
   "version": "1.0.1"
  }
 },
 "nbformat": 4,
 "nbformat_minor": 2
}
