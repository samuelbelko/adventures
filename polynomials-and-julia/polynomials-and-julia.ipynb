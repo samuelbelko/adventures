{
 "cells": [
  {
   "cell_type": "markdown",
   "metadata": {
    "slideshow": {
     "slide_type": "slide"
    }
   },
   "source": [
    "# Polynomials and Julia"
   ]
  },
  {
   "cell_type": "code",
   "execution_count": 1,
   "metadata": {
    "slideshow": {
     "slide_type": "slide"
    }
   },
   "outputs": [
    {
     "data": {
      "text/plain": [
       "Poly"
      ]
     },
     "execution_count": 1,
     "metadata": {},
     "output_type": "execute_result"
    }
   ],
   "source": [
    "# an immutable struct - a composit type\n",
    "struct Poly{T}\n",
    "    # Vector{T} is an alias for Array{T,1}, \n",
    "    # all elements have the same Type T, it is 1 dimensional\n",
    "    coeff::Vector{T}\n",
    "    # inner constructor - Julia creates a simple one by default\n",
    "    function Poly(coeff::Vector{T}) where T \n",
    "        # remove zeros from the end of coeff        \n",
    "        new{T}(removeTrailingZeros(coeff))\n",
    "    end\n",
    "end\n",
    "\n",
    "# outer constructor - convience methods for object creation\n",
    "# variable number of arguments\n",
    "function Poly(coeff::T...) where T\n",
    "    # coeff is a tuple, we need to convert it to Vector{T} i.e. Array{T,1}\n",
    "    Poly(collect(coeff))\n",
    "end"
   ]
  },
  {
   "cell_type": "code",
   "execution_count": 2,
   "metadata": {
    "slideshow": {
     "slide_type": "slide"
    }
   },
   "outputs": [
    {
     "data": {
      "text/plain": [
       "removeTrailingZeros (generic function with 1 method)"
      ]
     },
     "execution_count": 2,
     "metadata": {},
     "output_type": "execute_result"
    }
   ],
   "source": [
    "# a generic function\n",
    "function removeTrailingZeros(coeff::Vector{T}) where T\n",
    "    if isempty(coeff)\n",
    "        return Vector{T}()\n",
    "    end\n",
    "    \n",
    "    i = 0\n",
    "    while coeff[(end - i)] == zero(T)\n",
    "        i += 1\n",
    "        # the array is full of zeros\n",
    "        if i == lastindex(coeff)\n",
    "            return Vector{T}()\n",
    "        end\n",
    "    end\n",
    "    # the last evalueated statement is returned\n",
    "    coeff[1:end - i]\n",
    "end"
   ]
  },
  {
   "cell_type": "code",
   "execution_count": 3,
   "metadata": {
    "slideshow": {
     "slide_type": "slide"
    }
   },
   "outputs": [
    {
     "data": {
      "text/plain": [
       "Poly{Int64}([1, 2])"
      ]
     },
     "execution_count": 3,
     "metadata": {},
     "output_type": "execute_result"
    }
   ],
   "source": [
    "# Polynomials of the same parametric type Int64 in global scope\n",
    "# call inner constructor\n",
    "p = Poly([1,2])"
   ]
  },
  {
   "cell_type": "code",
   "execution_count": 4,
   "metadata": {
    "slideshow": {
     "slide_type": "fragment"
    }
   },
   "outputs": [
    {
     "data": {
      "text/plain": [
       "Poly{Int64}([0, 1])"
      ]
     },
     "execution_count": 4,
     "metadata": {},
     "output_type": "execute_result"
    }
   ],
   "source": [
    "# call outer constructor\n",
    "q = Poly(2,4,3)\n",
    "r = Poly(0,1)"
   ]
  },
  {
   "cell_type": "code",
   "execution_count": 5,
   "metadata": {
    "slideshow": {
     "slide_type": "slide"
    }
   },
   "outputs": [
    {
     "name": "stdout",
     "output_type": "stream",
     "text": [
      "Poly{Int64}\n",
      "  coeff: Array{Int64}((3,)) [2, 4, 3]\n"
     ]
    }
   ],
   "source": [
    "# show info about some object\n",
    "dump(q)"
   ]
  },
  {
   "cell_type": "code",
   "execution_count": 6,
   "metadata": {
    "slideshow": {
     "slide_type": "fragment"
    }
   },
   "outputs": [
    {
     "name": "stdout",
     "output_type": "stream",
     "text": [
      "s = Poly(1, 1, 0, 0, 0) = Poly{Int64}([1, 1])\n"
     ]
    }
   ],
   "source": [
    "# show macro, with `;` suppress the output of the cell\n",
    "@show s = Poly(1,1,0,0,0);"
   ]
  },
  {
   "cell_type": "code",
   "execution_count": 7,
   "metadata": {
    "slideshow": {
     "slide_type": "slide"
    }
   },
   "outputs": [
    {
     "data": {
      "text/plain": [
       "2-element Array{Int64,1}:\n",
       " 1\n",
       " 1"
      ]
     },
     "execution_count": 7,
     "metadata": {},
     "output_type": "execute_result"
    }
   ],
   "source": [
    "# dot syntax to access members\n",
    "s.coeff"
   ]
  },
  {
   "cell_type": "code",
   "execution_count": 8,
   "metadata": {
    "slideshow": {
     "slide_type": "fragment"
    }
   },
   "outputs": [
    {
     "data": {
      "text/plain": [
       "Poly{Int64}(Int64[])"
      ]
     },
     "execution_count": 8,
     "metadata": {},
     "output_type": "execute_result"
    }
   ],
   "source": [
    "Poly(0,0,0,0)"
   ]
  },
  {
   "cell_type": "code",
   "execution_count": 9,
   "metadata": {
    "slideshow": {
     "slide_type": "fragment"
    }
   },
   "outputs": [
    {
     "data": {
      "text/plain": [
       "Poly{Int64}"
      ]
     },
     "execution_count": 9,
     "metadata": {},
     "output_type": "execute_result"
    }
   ],
   "source": [
    "# print the type of an object\n",
    "typeof(s)"
   ]
  },
  {
   "cell_type": "code",
   "execution_count": 10,
   "metadata": {
    "slideshow": {
     "slide_type": "slide"
    }
   },
   "outputs": [
    {
     "data": {
      "text/plain": [
       "length (generic function with 86 methods)"
      ]
     },
     "execution_count": 10,
     "metadata": {},
     "output_type": "execute_result"
    }
   ],
   "source": [
    "# make it behave as an array\n",
    "# overloading - Multiple dispatch chooses the right method to use\n",
    "import Base.getindex\n",
    "# The syntax a[i,j,...] is converted by the compiler to getindex(a, i, j, ...)\n",
    "function getindex(p::Poly{T}, i::Int) where T\n",
    "    if i <= length(p)\n",
    "        return p.coeff[i]\n",
    "    else\n",
    "        # custom zero based on the type T\n",
    "        return zero(T)\n",
    "    end\n",
    "end\n",
    "    \n",
    "import Base.length\n",
    "# overload length\n",
    "function length(p::Poly{T}) where T\n",
    "    length(p.coeff)\n",
    "end"
   ]
  },
  {
   "cell_type": "code",
   "execution_count": 11,
   "metadata": {
    "slideshow": {
     "slide_type": "slide"
    }
   },
   "outputs": [
    {
     "data": {
      "text/plain": [
       "iszero (generic function with 16 methods)"
      ]
     },
     "execution_count": 11,
     "metadata": {},
     "output_type": "execute_result"
    }
   ],
   "source": [
    "import Base.lastindex\n",
    "# now we can use p[end]\n",
    "function lastindex(p::Poly{T}) where T\n",
    "    length(p)\n",
    "end\n",
    "    \n",
    "import Base.iszero\n",
    "# check if zero poly\n",
    "function iszero(p::Poly{T}) where T\n",
    "    isempty(p.coeff)\n",
    "end"
   ]
  },
  {
   "cell_type": "code",
   "execution_count": 12,
   "metadata": {
    "slideshow": {
     "slide_type": "slide"
    }
   },
   "outputs": [
    {
     "name": "stdout",
     "output_type": "stream",
     "text": [
      "q = Poly{Int64}([2, 4, 3])\n"
     ]
    },
    {
     "data": {
      "text/plain": [
       "(2, 4, 3, 4, 0, Poly{Int64}, 3, false)"
      ]
     },
     "execution_count": 12,
     "metadata": {},
     "output_type": "execute_result"
    }
   ],
   "source": [
    "@show q\n",
    "q[1], q[2], q[end], q[end-1], q[200], typeof(q), length(q), iszero(q)"
   ]
  },
  {
   "cell_type": "code",
   "execution_count": 13,
   "metadata": {
    "slideshow": {
     "slide_type": "fragment"
    }
   },
   "outputs": [
    {
     "data": {
      "text/plain": [
       "== (generic function with 157 methods)"
      ]
     },
     "execution_count": 13,
     "metadata": {},
     "output_type": "execute_result"
    }
   ],
   "source": [
    "import Base.==\n",
    "# we removed trailing zeros from coeff at init, OK\n",
    "function ==(p::Poly{T}, q::Poly{T}) where T\n",
    "    p.coeff == q.coeff\n",
    "end"
   ]
  },
  {
   "cell_type": "code",
   "execution_count": 14,
   "metadata": {
    "slideshow": {
     "slide_type": "slide"
    }
   },
   "outputs": [
    {
     "data": {
      "text/plain": [
       "- (generic function with 176 methods)"
      ]
     },
     "execution_count": 14,
     "metadata": {},
     "output_type": "execute_result"
    }
   ],
   "source": [
    "import Base.+\n",
    "function +(p::Poly{T}, q::Poly{T}) where T\n",
    "    # Arr. comprehension - create math. like arrays, we use the inner constructor and range 1:X (iterable)\n",
    "    Poly([p[i] + q[i] for i in 1:max(length(p), length(q))])\n",
    "end\n",
    "\n",
    "import Base.-\n",
    "# define inverse elements\n",
    "function -(p::Poly{T}) where T\n",
    "    Poly(- p.coeff)\n",
    "end\n",
    "\n",
    "function -(p::Poly{T}, q::Poly{T}) where T\n",
    "    p + (-q)\n",
    "end"
   ]
  },
  {
   "cell_type": "code",
   "execution_count": 15,
   "metadata": {
    "slideshow": {
     "slide_type": "slide"
    }
   },
   "outputs": [
    {
     "data": {
      "text/plain": [
       "one (generic function with 18 methods)"
      ]
     },
     "execution_count": 15,
     "metadata": {},
     "output_type": "execute_result"
    }
   ],
   "source": [
    "# overload the zero and one function for polynomials\n",
    "import Base.zero, Base.one\n",
    "# additive identity element for the type of x, zero(x)\n",
    "# define function with f(x) = ...\n",
    "# var name left out, important is to know T, dispatch on type\n",
    "zero(::Type{Poly{T}}) where T = Poly(Vector{T}())\n",
    "one(::Type{Poly{T}}) where T = Poly([one(T)])"
   ]
  },
  {
   "cell_type": "code",
   "execution_count": 16,
   "metadata": {
    "slideshow": {
     "slide_type": "fragment"
    }
   },
   "outputs": [
    {
     "data": {
      "text/plain": [
       "(Poly{Float64}(Float64[]), Poly{Float64}([1.0]), Poly{Int64}([1]))"
      ]
     },
     "execution_count": 16,
     "metadata": {},
     "output_type": "execute_result"
    }
   ],
   "source": [
    "zero(Poly{Float64}), one(Poly{Float64}), one(Poly{Int64})"
   ]
  },
  {
   "cell_type": "code",
   "execution_count": 17,
   "metadata": {
    "slideshow": {
     "slide_type": "slide"
    }
   },
   "outputs": [
    {
     "data": {
      "text/plain": [
       "* (generic function with 358 methods)"
      ]
     },
     "execution_count": 17,
     "metadata": {},
     "output_type": "execute_result"
    }
   ],
   "source": [
    "import Base.*\n",
    "# mult. polynoms of the same type (!)\n",
    "function *(p::Poly{T}, q::Poly{T}) where T\n",
    "    # p or q is a zero polynomial => p*q = zero poly.\n",
    "    if iszero(p) || iszero(q)\n",
    "        return zero(Poly{T})\n",
    "    else\n",
    "        # Vector of type T with the right length\n",
    "        newCoeff = Vector{T}(undef, length(p) + length(q) - 1)\n",
    "            \n",
    "        for i in 1:length(newCoeff)\n",
    "            newCoeff[i] = sum([ p[j] * q[i-j + 1] for j in 1:i])\n",
    "        end\n",
    "        \n",
    "        return Poly(newCoeff)\n",
    "    end\n",
    "end"
   ]
  },
  {
   "cell_type": "code",
   "execution_count": 18,
   "metadata": {
    "slideshow": {
     "slide_type": "slide"
    }
   },
   "outputs": [
    {
     "name": "stdout",
     "output_type": "stream",
     "text": [
      "(p + q) + r == p + (q + r) = true\n",
      "zero(Poly{Int64}) + p == p = true\n",
      "-p + p == zero(Poly{Int64}) = true\n",
      "p + q == q + p = true\n"
     ]
    }
   ],
   "source": [
    "# a small test of our implementation\n",
    "\n",
    "# properties of a commutative group\n",
    "# associative +\n",
    "@show (p + q) + r == p + (q + r)\n",
    "# defining property of the identity element wrt +\n",
    "@show zero(Poly{Int64}) + p == p\n",
    "# defining property of an inverse element wrt +\n",
    "@show (-p) + p == zero(Poly{Int64})\n",
    "# commutative +\n",
    "@show p + q == q + p;"
   ]
  },
  {
   "cell_type": "code",
   "execution_count": 19,
   "metadata": {
    "slideshow": {
     "slide_type": "slide"
    }
   },
   "outputs": [
    {
     "name": "stdout",
     "output_type": "stream",
     "text": [
      "(p * q) * r == p * (q * r) = true\n",
      "one(Poly{Int64}) * p == p * one(Poly{Int64}) == p = true\n",
      "p * (q + r) == p * q + p * r = true\n",
      "p * q == q * p = true\n",
      "zero(Poly{Int64}) * p == zero(Poly{Int64}) = true\n",
      "-p * q == p * -q == -(p * q) = true\n"
     ]
    }
   ],
   "source": [
    "# further properties of a commutative ring\n",
    "# associative * \n",
    "@show (p*q)*r == p*(q*r)\n",
    "# defining property of the neutral element wrt *\n",
    "@show one(Poly{Int64}) * p == p * one(Poly{Int64}) == p\n",
    "# distributive property\n",
    "@show p*(q + r) == p * q + p * r\n",
    "# commutative * \n",
    "@show p * q == q * p\n",
    "\n",
    "# logical consequences\n",
    "@show zero(Poly{Int64}) * p == zero(Poly{Int64})\n",
    "@show (-p) * q == p * (-q) == -(p*q);"
   ]
  },
  {
   "cell_type": "code",
   "execution_count": 20,
   "metadata": {
    "slideshow": {
     "slide_type": "slide"
    }
   },
   "outputs": [
    {
     "data": {
      "text/plain": [
       "Poly{Int64}([1, 7, 4, -36, -75, -60, -18])"
      ]
     },
     "execution_count": 20,
     "metadata": {},
     "output_type": "execute_result"
    }
   ],
   "source": [
    "# Yay a polynomial ring over \"Z\" (well not quite Z but ok..)\n",
    "(p * q + r * s ) * (p - q * r) + zero(typeof(s)) - p * one(typeof(p))"
   ]
  },
  {
   "cell_type": "code",
   "execution_count": 21,
   "metadata": {
    "slideshow": {
     "slide_type": "slide"
    }
   },
   "outputs": [
    {
     "data": {
      "text/plain": [
       "show (generic function with 234 methods)"
      ]
     },
     "execution_count": 21,
     "metadata": {},
     "output_type": "execute_result"
    }
   ],
   "source": [
    "# pretty printing for Poly   \n",
    "import Base.show\n",
    "# When you print an object, Julia invokes the show function\n",
    "function show(io::IO, p::Poly{T}) where T\n",
    "    # get type with typeof(x)\n",
    "    if iszero(p)\n",
    "        print(io, \"0\" )\n",
    "    elseif length(p) == 1\n",
    "        print(io, \"(\", repr( p[1]), \")\")\n",
    "    else\n",
    "        print(io, \"(\", repr( p[1]), \") +\")\n",
    "        for i in 2:(length(p) - 1)\n",
    "            # use string interpolation as in Perl using $\n",
    "            print(io, \" (\", repr(p[i]), \")\", \"x^$(i - 1) +\" )\n",
    "        end\n",
    "        print(io, \" (\", repr(p[length(p)]), \")\", \"x^$(length(p) - 1)\" )\n",
    "    end\n",
    "end"
   ]
  },
  {
   "cell_type": "code",
   "execution_count": 22,
   "metadata": {
    "slideshow": {
     "slide_type": "slide"
    }
   },
   "outputs": [
    {
     "name": "stdout",
     "output_type": "stream",
     "text": [
      "u = Poly(1, 2, 3) = (1) + (2)x^1 + (3)x^2\n"
     ]
    }
   ],
   "source": [
    "@show u = Poly(1,2,3);"
   ]
  },
  {
   "cell_type": "code",
   "execution_count": 23,
   "metadata": {
    "slideshow": {
     "slide_type": "fragment"
    }
   },
   "outputs": [
    {
     "data": {
      "text/plain": [
       "(2) + (4)x^1 + (3)x^2"
      ]
     },
     "execution_count": 23,
     "metadata": {},
     "output_type": "execute_result"
    }
   ],
   "source": [
    "q"
   ]
  },
  {
   "cell_type": "code",
   "execution_count": 24,
   "metadata": {
    "slideshow": {
     "slide_type": "slide"
    }
   },
   "outputs": [],
   "source": [
    "# callable struct - functions are just callables\n",
    "# evaluate at x\n",
    "# with * between T and N we promote them to a common \"greater\" type\n",
    "# we can evaluate an Int64 poly at Float64 value\n",
    "function (p::Poly{T})(x::N) where {T, N}\n",
    "    if iszero(p)\n",
    "        return zero(x)\n",
    "    else\n",
    "        # a dot product of transposed coeff and x^i \n",
    "        # one coud also use LinearAlgebra.dot as ⋅ (\\cdot<tab>)\n",
    "        p.coeff' * [x^(i) for i in 0:(length(p)-1)]   \n",
    "    end\n",
    "end"
   ]
  },
  {
   "cell_type": "code",
   "execution_count": 25,
   "metadata": {
    "slideshow": {
     "slide_type": "slide"
    }
   },
   "outputs": [
    {
     "name": "stdout",
     "output_type": "stream",
     "text": [
      "u = (1) + (2)x^1 + (3)x^2\n"
     ]
    }
   ],
   "source": [
    "@show u;"
   ]
  },
  {
   "cell_type": "code",
   "execution_count": 26,
   "metadata": {
    "slideshow": {
     "slide_type": "fragment"
    }
   },
   "outputs": [
    {
     "data": {
      "text/plain": [
       "(1, 6, 2.75, 141.04947947833202, 141.04947947833202)"
      ]
     },
     "execution_count": 26,
     "metadata": {},
     "output_type": "execute_result"
    }
   ],
   "source": [
    "# full support for unicode characters (\\Gamma<tab> for Γ etc.)\n",
    "# use ∘ (\\circ<tab>) for function composition\n",
    "u(0), u(1), u(0.5), p(q(s(π))), (p ∘ q ∘ s)(π)"
   ]
  },
  {
   "cell_type": "code",
   "execution_count": 27,
   "metadata": {
    "slideshow": {
     "slide_type": "slide"
    }
   },
   "outputs": [
    {
     "ename": "MethodError",
     "evalue": "MethodError: no method matching *(::Poly{Int64}, ::Poly{Float64})\nClosest candidates are:\n  *(::Any, ::Any, !Matched::Any, !Matched::Any...) at operators.jl:529\n  *(::Poly{T}, !Matched::Poly{T}) where T at In[17]:5",
     "output_type": "error",
     "traceback": [
      "MethodError: no method matching *(::Poly{Int64}, ::Poly{Float64})\nClosest candidates are:\n  *(::Any, ::Any, !Matched::Any, !Matched::Any...) at operators.jl:529\n  *(::Poly{T}, !Matched::Poly{T}) where T at In[17]:5",
      "",
      "Stacktrace:",
      " [1] top-level scope at In[27]:1"
     ]
    }
   ],
   "source": [
    "# multiple dispatch checks the function definition (signature),\n",
    "# we could provide \"promotion rules\" to convert to common type\n",
    "Poly(1,2) * Poly(1.1,1.2)"
   ]
  },
  {
   "cell_type": "code",
   "execution_count": 28,
   "metadata": {
    "slideshow": {
     "slide_type": "fragment"
    }
   },
   "outputs": [
    {
     "data": {
      "text/plain": [
       "1×4 LinearAlgebra.Adjoint{Int64,Array{Int64,1}}:\n",
       " 6  17  34  57"
      ]
     },
     "execution_count": 28,
     "metadata": {},
     "output_type": "execute_result"
    }
   ],
   "source": [
    "# broadcasting using\n",
    "# a callable polynomial u\n",
    "# transpose with a sigle quote\n",
    "u.([1,2,3,4])'"
   ]
  },
  {
   "cell_type": "code",
   "execution_count": 29,
   "metadata": {
    "slideshow": {
     "slide_type": "slide"
    }
   },
   "outputs": [
    {
     "data": {
      "text/plain": [
       "doubleCoeff (generic function with 1 method)"
      ]
     },
     "execution_count": 29,
     "metadata": {},
     "output_type": "execute_result"
    }
   ],
   "source": [
    "# defined only for T subtype Number\n",
    "function doubleCoeff(p::Poly{T}) where T <: Number\n",
    "    Poly( 2 * p.coeff)\n",
    "end"
   ]
  },
  {
   "cell_type": "code",
   "execution_count": 30,
   "metadata": {
    "slideshow": {
     "slide_type": "slide"
    }
   },
   "outputs": [
    {
     "data": {
      "text/plain": [
       "(2) + (4)x^1 + (6)x^2"
      ]
     },
     "execution_count": 30,
     "metadata": {},
     "output_type": "execute_result"
    }
   ],
   "source": [
    "doubleCoeff(Poly(1,2,3))"
   ]
  },
  {
   "cell_type": "code",
   "execution_count": 31,
   "metadata": {
    "slideshow": {
     "slide_type": "slide"
    }
   },
   "outputs": [
    {
     "data": {
      "text/plain": [
       "* (generic function with 359 methods)"
      ]
     },
     "execution_count": 31,
     "metadata": {},
     "output_type": "execute_result"
    }
   ],
   "source": [
    "# How about a scalar multiplication??\n",
    "# Can we generalize doubleCoeff ??\n",
    "\n",
    "# use dot syntax to access memebers of a module\n",
    "# define behaviour for Poly when broadcasted \n",
    "# -> behave as a scalar do not broatcast any further\n",
    "Base.broadcastable(x::Poly{T}) where T = Ref(x)\n",
    "\n",
    "# overload *\n",
    "function *(s::T, p::Poly{T}) where T\n",
    "    # beautiful syntax using .\n",
    "    Poly(s .* p.coeff)\n",
    "end"
   ]
  },
  {
   "cell_type": "code",
   "execution_count": 32,
   "metadata": {
    "slideshow": {
     "slide_type": "slide"
    }
   },
   "outputs": [
    {
     "data": {
      "text/plain": [
       "((3) + (6)x^1 + (7)x^2) + ((2) + (11)x^1 + (15)x^2 + (6)x^3)x^1 + ((2) + (9)x^1 + (15)x^2 + (6)x^3)x^2 + ((1) + (6)x^1 + (8)x^2 + (3)x^3)x^3 + ((1) + (3)x^1 + (3)x^2)x^4 + ((0) + (1)x^1 + (1)x^2)x^5"
      ]
     },
     "execution_count": 32,
     "metadata": {},
     "output_type": "execute_result"
    }
   ],
   "source": [
    "# and how about a polynomial ring over a polynomial ring ???\n",
    "# p,q,r,s are Poly over \"Z\", now used as coeff.\n",
    "τ = Poly(p,q,r,s)\n",
    "μ = Poly(p, p, r)\n",
    "ν = Poly(q,r)\n",
    "ρ = τ * μ + ν - μ + one(typeof(ν))"
   ]
  },
  {
   "cell_type": "code",
   "execution_count": 33,
   "metadata": {
    "slideshow": {
     "slide_type": "slide"
    }
   },
   "outputs": [
    {
     "name": "stdout",
     "output_type": "stream",
     "text": [
      "μ = ((1) + (2)x^1) + ((1) + (2)x^1)x^1 + ((0) + (1)x^1)x^2\n",
      "μ == Poly(1) * μ = true\n",
      "Poly(0, 1) * μ = ((0) + (1)x^1 + (2)x^2) + ((0) + (1)x^1 + (2)x^2)x^1 + ((0) + (0)x^1 + (1)x^2)x^2\n"
     ]
    }
   ],
   "source": [
    "# scalar mulitplication\n",
    "@show μ\n",
    "@show μ == Poly(1) * μ\n",
    "# \"mult. by the scalar g(x)=x\"  ≡ \"mult. by Poly(0,1)\"\n",
    "@show Poly(0,1) * μ;"
   ]
  },
  {
   "cell_type": "code",
   "execution_count": 34,
   "metadata": {
    "slideshow": {
     "slide_type": "fragment"
    }
   },
   "outputs": [
    {
     "name": "stdout",
     "output_type": "stream",
     "text": [
      "p = (1) + (2)x^1\n",
      "p * μ = ((1) + (4)x^1 + (4)x^2) + ((1) + (4)x^1 + (4)x^2)x^1 + ((0) + (1)x^1 + (2)x^2)x^2\n"
     ]
    }
   ],
   "source": [
    "@show p\n",
    "@show p * μ;"
   ]
  },
  {
   "cell_type": "code",
   "execution_count": 35,
   "metadata": {
    "slideshow": {
     "slide_type": "slide"
    }
   },
   "outputs": [
    {
     "data": {
      "text/plain": [
       "zero (generic function with 18 methods)"
      ]
     },
     "execution_count": 35,
     "metadata": {},
     "output_type": "execute_result"
    }
   ],
   "source": [
    "# Can we call evaluate our polynomial over a polynomial at some polynomial ????\n",
    "\n",
    "# overwrite / define new behavior for Poly{T}\n",
    "# what is Poly{T}^n ??\n",
    "# Integer is an abstract type that includes Int64, Int32 etc.\n",
    "import Base.^\n",
    "function ^(p::Poly{T}, n::Integer) where T\n",
    "    # we may get an error here..\n",
    "    un = Unsigned(n)\n",
    "    # we assume at this point one(T) has an implentation\n",
    "    res = Poly(one(T))\n",
    "    for i in 1:n\n",
    "        res *= p\n",
    "    end\n",
    "    res\n",
    "end\n",
    "\n",
    "import LinearAlgebra\n",
    "LinearAlgebra.dot(p::Poly{N},q::Poly{N}) where N  = p * q\n",
    "zero(p::Poly{N}) where N = zero(Poly{N})"
   ]
  },
  {
   "cell_type": "code",
   "execution_count": 36,
   "metadata": {
    "slideshow": {
     "slide_type": "slide"
    }
   },
   "outputs": [
    {
     "name": "stdout",
     "output_type": "stream",
     "text": [
      "μ = ((1) + (2)x^1) + ((1) + (2)x^1)x^1 + ((0) + (1)x^1)x^2\n",
      "q = (2) + (4)x^1 + (3)x^2\n",
      "μ(q) = (3) + (14)x^1 + (27)x^2 + (34)x^3 + (24)x^4 + (9)x^5\n",
      "μ(q) == μ[1] + μ[2] * q + μ[3] * q ^ 2 = true\n"
     ]
    }
   ],
   "source": [
    "@show μ\n",
    "@show q\n",
    "@show μ(q)\n",
    "@show μ(q) == μ[1] + μ[2]*q + μ[3]*q^2;"
   ]
  },
  {
   "cell_type": "markdown",
   "metadata": {},
   "source": [
    "Thanks for reading."
   ]
  }
 ],
 "metadata": {
  "kernelspec": {
   "display_name": "Julia 1.4.0",
   "language": "julia",
   "name": "julia-1.4"
  },
  "language_info": {
   "file_extension": ".jl",
   "mimetype": "application/julia",
   "name": "julia",
   "version": "1.4.0"
  }
 },
 "nbformat": 4,
 "nbformat_minor": 2
}
